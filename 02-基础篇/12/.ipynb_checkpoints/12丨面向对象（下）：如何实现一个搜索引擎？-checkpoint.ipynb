{
 "cells": [
  {
   "cell_type": "markdown",
   "metadata": {},
   "source": [
    "# “高大上”的搜索引擎"
   ]
  },
  {
   "cell_type": "markdown",
   "metadata": {},
   "source": [
    "* 一个搜索引擎由搜索器/索引器/检索器和用户接口四个部分组成"
   ]
  },
  {
   "cell_type": "code",
   "execution_count": 1,
   "metadata": {},
   "outputs": [],
   "source": [
    "class SearchEngineBase(object):\n",
    "    def __init__(self):\n",
    "        pass\n",
    "    \n",
    "    # 搜索器\n",
    "    def add_corpus(self, file_path):\n",
    "        with open(file_path, 'r') as fin:\n",
    "            text = fin.read()\n",
    "        self.process_corpus(file_path, text)\n",
    "    \n",
    "    # 索引器\n",
    "    def process_corpus(self, id, text):\n",
    "        raise Exception('search not implemented.')\n",
    "    \n",
    "    # 检索器\n",
    "    def search(self, query):\n",
    "        raise Exception('search not implemented')\n",
    "        \n",
    "\n",
    "# 用户接口        \n",
    "def main(search_engine):\n",
    "    for file_path in ['1.txt', '2.txt', '3.txt', '4.txt', '5.txt']:\n",
    "        search_engine.add_corpus(file_path)\n",
    "        \n",
    "    while True:\n",
    "        query = input()\n",
    "        if query == 'quit':\n",
    "            break\n",
    "        results = search_engine.search(query)\n",
    "        print('found {} result(s):'.format(len(results)))\n",
    "        for result in results:\n",
    "            print(result)"
   ]
  },
  {
   "cell_type": "code",
   "execution_count": 2,
   "metadata": {},
   "outputs": [],
   "source": [
    "class SimpleEngine(SearchEngineBase):\n",
    "    def __init__(self):\n",
    "        super(SimpleEngine, self).__init__()\n",
    "        self.__id_to_texts = {}\n",
    "        \n",
    "    def process_corpus(self, id, text):\n",
    "        self.__id_to_texts[id] = text\n",
    "        \n",
    "    def search(self, query):\n",
    "        results = []\n",
    "        for id, text in self.__id_to_texts.items():\n",
    "            if query in text:\n",
    "                results.append(id)\n",
    "        return results"
   ]
  },
  {
   "cell_type": "code",
   "execution_count": 3,
   "metadata": {},
   "outputs": [
    {
     "name": "stdout",
     "output_type": "stream",
     "text": [
      "simple\n",
      "found 0 result(s):\n",
      "little\n",
      "found 2 result(s):\n",
      "1.txt\n",
      "2.txt\n",
      "quit\n"
     ]
    }
   ],
   "source": [
    "search_engine = SimpleEngine()\n",
    "main(search_engine)"
   ]
  },
  {
   "cell_type": "markdown",
   "metadata": {},
   "source": [
    "# Bag of Words & Inverted Index"
   ]
  },
  {
   "cell_type": "code",
   "execution_count": 4,
   "metadata": {
    "scrolled": true
   },
   "outputs": [],
   "source": [
    "import re\n",
    "\n",
    "\n",
    "class BOWEngine(SearchEngineBase):\n",
    "    def __init__(self):\n",
    "        super(BOWEngine, self).__init__()\n",
    "        self.__id_to_words = {}\n",
    "        \n",
    "    def process_corpus(self, id, text):\n",
    "        self.__id_to_words[id] = self.parse_text_to_words(text)\n",
    "        \n",
    "    def search(self, query):\n",
    "        query_words = self.parse_text_to_words(query)\n",
    "        results = []\n",
    "        for id, words in self.__id_to_words.items():\n",
    "            if self.query_match(query_words, words):\n",
    "                results.append(id)\n",
    "        return results\n",
    "    \n",
    "    @staticmethod\n",
    "    def query_match(query_words, words):\n",
    "        for query_word in query_words:\n",
    "            if query_word not in words:\n",
    "                return False\n",
    "        return True\n",
    "    \n",
    "    @staticmethod\n",
    "    def parse_text_to_words(text):\n",
    "        # 使用正则表达式去除标点符号和换行符\n",
    "        text = re.sub(r'[^\\w]', ' ', text)\n",
    "        # 转为小写\n",
    "        text = text.lower()\n",
    "        # 生成所有单词的列表\n",
    "        word_list = text.split(' ')\n",
    "        # 去除空白单词\n",
    "        word_list = filter(None, word_list)\n",
    "        # 返回单词的set\n",
    "        return set(word_list)"
   ]
  },
  {
   "cell_type": "code",
   "execution_count": 5,
   "metadata": {},
   "outputs": [
    {
     "name": "stdout",
     "output_type": "stream",
     "text": [
      "i have a DREAM\n",
      "found 3 result(s):\n",
      "1.txt\n",
      "2.txt\n",
      "3.txt\n",
      "FREEDOM CHILDREN\n",
      "found 1 result(s):\n",
      "5.txt\n",
      "QUIT\n",
      "found 0 result(s):\n",
      "quit\n"
     ]
    }
   ],
   "source": [
    "search_engine = BOWEngine()\n",
    "main(search_engine)"
   ]
  },
  {
   "cell_type": "code",
   "execution_count": 14,
   "metadata": {},
   "outputs": [],
   "source": [
    "import re\n",
    "\n",
    "class BOWInvertedIndexEngine(SearchEngineBase):\n",
    "    def __init__(self):\n",
    "        super(BOWInvertedIndexEngine, self).__init__()\n",
    "        self.inverted_index = {}\n",
    "        \n",
    "    def process_corpus(self, id, text):\n",
    "        words = self.parse_text_to_words(text)\n",
    "        for word in words:\n",
    "            if word not in self.inverted_index:\n",
    "                self.inverted_index[word] = []\n",
    "            self.inverted_index[word].append(id)\n",
    "            \n",
    "    def search(self, query):\n",
    "        query_words = list(self.parse_text_to_words(query))\n",
    "        query_words_index = list()\n",
    "        for query_word in query_words:\n",
    "            query_words_index.append(0)\n",
    "            \n",
    "        # 如果一个查询单词的倒序索引为空，我们就立刻返回\n",
    "        for query_word in query_words:\n",
    "            if query_word not in self.inverted_index:\n",
    "                return []\n",
    "            \n",
    "        result = []\n",
    "        while True:\n",
    "            # 首先，获得当前状态下所有倒序索引的index\n",
    "            current_ids = []\n",
    "            \n",
    "            for idx, query_word in enumerate(query_words):\n",
    "                current_index = query_words_index[idx]\n",
    "                current_inverted_list = self.inverted_index[query_word]\n",
    "                \n",
    "                # 已经遍历到了某一个倒序索引的末尾，结束search\n",
    "                if current_index >= len(current_inverted_list):\n",
    "                    return result\n",
    "                \n",
    "                current_ids.append(current_inverted_list[current_index])\n",
    "                \n",
    "            # 然后，如果current_ids的所有元素都一样，那么表明这个单词在这个元素对应的文档中\n",
    "            if all(x == current_ids[0] for x in current_ids):\n",
    "                result.append(current_ids[0])\n",
    "                query_words_index = [x + 1 for x in query_words_index]\n",
    "                continue\n",
    "            \n",
    "            # 如果不是，我们就把最小的元素加一\n",
    "            min_val = min(current_ids)\n",
    "            min_val_pos = current_ids.index(min_val)\n",
    "            query_words_index[min_val_pos] += 1\n",
    "            \n",
    "    \n",
    "    @staticmethod\n",
    "    def parse_text_to_words(text):\n",
    "         # 使用正则表达式去除标点符号和换行符\n",
    "        text = re.sub(r'[^\\w]', ' ', text)\n",
    "        # 转为小写\n",
    "        text = text.lower()\n",
    "        # 生成所有单词的列表\n",
    "        word_list = text.split(' ')\n",
    "        # 去除空白单词\n",
    "        word_list = filter(None, word_list)\n",
    "        # 返回单词的set\n",
    "        return set(word_list)"
   ]
  },
  {
   "cell_type": "code",
   "execution_count": 15,
   "metadata": {},
   "outputs": [
    {
     "name": "stdout",
     "output_type": "stream",
     "text": [
      "little\n",
      "found 2 result(s):\n",
      "1.txt\n",
      "2.txt\n",
      "little vicious\n",
      "found 1 result(s):\n",
      "2.txt\n",
      "quit\n"
     ]
    }
   ],
   "source": [
    "search_engine = BOWInvertedIndexEngine()\n",
    "main(search_engine)"
   ]
  },
  {
   "cell_type": "markdown",
   "metadata": {},
   "source": [
    "# LRU和多重继承"
   ]
  },
  {
   "cell_type": "code",
   "execution_count": 18,
   "metadata": {
    "scrolled": true
   },
   "outputs": [],
   "source": [
    "import pylru\n",
    "\n",
    "class LRUCache(object):\n",
    "    def __init__(self, size=32):\n",
    "        self.cache = pylru.lrucache(size)\n",
    "        \n",
    "    def has(self, key):\n",
    "        return key in self.cache\n",
    "    \n",
    "    def get(self, key):\n",
    "        return self.cache[key]\n",
    "    \n",
    "    def set(self, key, value):\n",
    "        self.cache[key] = value\n",
    "        \n",
    "        \n",
    "class BOWInvertedIndexEngineWithCache(BOWInvertedIndexEngine, LRUCache):\n",
    "    def __init__(self):\n",
    "        super(BOWInvertedIndexEngineWithCache, self).__init__()\n",
    "        LRUCache.__init__(self)\n",
    "        \n",
    "    def search(self, query):\n",
    "        if self.has(query):\n",
    "            print('cache hit!')\n",
    "            return self.get(query)\n",
    "        \n",
    "        result = super(BOWInvertedIndexEngineWithCache, self).search(query)\n",
    "        \n",
    "        self.set(query, result)\n",
    "        \n",
    "        return result"
   ]
  },
  {
   "cell_type": "code",
   "execution_count": 19,
   "metadata": {},
   "outputs": [
    {
     "name": "stdout",
     "output_type": "stream",
     "text": [
      "little\n",
      "found 2 result(s):\n",
      "1.txt\n",
      "2.txt\n",
      "little\n",
      "cache hit!\n",
      "found 2 result(s):\n",
      "1.txt\n",
      "2.txt\n",
      "good\n",
      "found 0 result(s):\n",
      "good\n",
      "cache hit!\n",
      "found 0 result(s):\n",
      "quit\n"
     ]
    }
   ],
   "source": [
    "search_engine = BOWInvertedIndexEngineWithCache()\n",
    "main(search_engine)"
   ]
  },
  {
   "cell_type": "code",
   "execution_count": null,
   "metadata": {},
   "outputs": [],
   "source": []
  }
 ],
 "metadata": {
  "kernelspec": {
   "display_name": "Python 3",
   "language": "python",
   "name": "python3"
  },
  "language_info": {
   "codemirror_mode": {
    "name": "ipython",
    "version": 3
   },
   "file_extension": ".py",
   "mimetype": "text/x-python",
   "name": "python",
   "nbconvert_exporter": "python",
   "pygments_lexer": "ipython3",
   "version": "3.8.5"
  }
 },
 "nbformat": 4,
 "nbformat_minor": 4
}
