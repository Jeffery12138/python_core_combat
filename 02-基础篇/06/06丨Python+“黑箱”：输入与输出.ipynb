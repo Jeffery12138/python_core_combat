{
 "cells": [
  {
   "cell_type": "markdown",
   "metadata": {},
   "source": [
    "## 输入输出基础"
   ]
  },
  {
   "cell_type": "code",
   "execution_count": 1,
   "metadata": {},
   "outputs": [
    {
     "name": "stdout",
     "output_type": "stream",
     "text": [
      "your name:Jack\n",
      "you are a boy?(y/n)y\n"
     ]
    }
   ],
   "source": [
    "name = input(\"your name:\")\n",
    "gender = input(\"you are a boy?(y/n)\")"
   ]
  },
  {
   "cell_type": "code",
   "execution_count": 2,
   "metadata": {},
   "outputs": [],
   "source": [
    "welcome_str = \"Welcome to the matrix {prefix} {name}.\""
   ]
  },
  {
   "cell_type": "code",
   "execution_count": 3,
   "metadata": {},
   "outputs": [],
   "source": [
    "welcome_dict = {\n",
    "    'prefix': 'Mr.' if gender == 'y' else 'Mrs',\n",
    "    'name': name\n",
    "}"
   ]
  },
  {
   "cell_type": "code",
   "execution_count": 5,
   "metadata": {},
   "outputs": [
    {
     "name": "stdout",
     "output_type": "stream",
     "text": [
      "authorizing...\n",
      "Welcome to the matrix Mr. Jack.\n"
     ]
    }
   ],
   "source": [
    "print('authorizing...')\n",
    "print(welcome_str.format(**welcome_dict))"
   ]
  },
  {
   "cell_type": "code",
   "execution_count": 6,
   "metadata": {},
   "outputs": [
    {
     "name": "stdout",
     "output_type": "stream",
     "text": [
      "1\n"
     ]
    }
   ],
   "source": [
    "a = input()"
   ]
  },
  {
   "cell_type": "code",
   "execution_count": 7,
   "metadata": {},
   "outputs": [
    {
     "name": "stdout",
     "output_type": "stream",
     "text": [
      "2\n"
     ]
    }
   ],
   "source": [
    "b = input()"
   ]
  },
  {
   "cell_type": "code",
   "execution_count": 8,
   "metadata": {},
   "outputs": [
    {
     "name": "stdout",
     "output_type": "stream",
     "text": [
      "a + b = 12\n"
     ]
    }
   ],
   "source": [
    "print('a + b = {}'.format(a + b))"
   ]
  },
  {
   "cell_type": "code",
   "execution_count": 9,
   "metadata": {},
   "outputs": [
    {
     "name": "stdout",
     "output_type": "stream",
     "text": [
      "type of a is <class 'str'>, type of b is <class 'str'>\n"
     ]
    }
   ],
   "source": [
    "print('type of a is {}, type of b is {}'.format(type(a), type(b)))"
   ]
  },
  {
   "cell_type": "code",
   "execution_count": 10,
   "metadata": {},
   "outputs": [
    {
     "name": "stdout",
     "output_type": "stream",
     "text": [
      "a + b = 3\n"
     ]
    }
   ],
   "source": [
    "print('a + b = {}'.format(int(a) + int(b)))"
   ]
  },
  {
   "cell_type": "markdown",
   "metadata": {},
   "source": [
    "## 文件输入输出"
   ]
  },
  {
   "cell_type": "code",
   "execution_count": 47,
   "metadata": {},
   "outputs": [
    {
     "name": "stdout",
     "output_type": "stream",
     "text": [
      "['by', 'martin', 'luther', 'king', 'jr', 'i', 'am', 'happy', 'to', 'join', 'with', 'you', 'today', 'in', 'what', 'will', 'go', 'down', 'in', 'history', 'as', 'the', 'greatest', 'demonstration', 'for', 'freedom', 'in', 'the', 'history', 'of', 'our', 'nation', 'five', 'score', 'years', 'ago', 'a', 'great', 'american', 'in', 'whose', 'symbolic', 'shadow', 'we', 'stand', 'today', 'signed', 'the', 'emancipation', 'proclamation', 'this', 'momentous', 'decree', 'came', 'as', 'a', 'great', 'beacon', 'light', 'of', 'hope', 'to', 'millions', 'of', 'negro', 'slaves', 'who', 'had', 'been', 'seared', 'in', 'the', 'flames', 'of', 'withering', 'injustice', 'it', 'came', 'as', 'a', 'joyous', 'daybreak', 'to', 'end', 'the', 'long', 'night', 'of', 'their', 'captivity', 'but', 'one', 'hundred', 'years', 'later', 'the', 'negro', 'still', 'is', 'not', 'free', 'one', 'hundred', 'years', 'later', 'the', 'life', 'of', 'the', 'negro', 'is', 'still', 'sadly', 'crippled', 'by', 'the', 'manacles', 'of', 'segregation', 'and', 'the', 'chains', 'of', 'discrimination', 'one', 'hundred', 'years', 'later', 'the', 'negro', 'lives', 'on', 'a', 'lonely', 'island', 'of', 'poverty', 'in', 'the', 'midst', 'of', 'a', 'vast', 'ocean', 'of', 'material', 'prosperity', 'one', 'hundred', 'years', 'later', 'the', 'negro', 'is', 'still', 'languished', 'in', 'the', 'corners', 'of', 'american', 'society', 'and', 'finds', 'himself', 'an', 'exile', 'in', 'his', 'own', 'land', 'and', 'so', 'we', 've', 'come', 'here', 'today', 'to', 'dramatize', 'a', 'shameful', 'condition', 'in', 'a', 'sense', 'we', 've', 'come', 'to', 'our', 'nation', 's', 'capital', 'to', 'cash', 'a', 'check', 'when', 'the', 'architects', 'of', 'our', 'republic', 'wrote', 'the', 'magnificent', 'words', 'of', 'the', 'constitution', 'and', 'the', 'declaration', 'of', 'independence', 'they', 'were', 'signing', 'a', 'promissory', 'note', 'to', 'which', 'every', 'american', 'was', 'to', 'fall', 'heir', 'this', 'note', 'was', 'a', 'promise', 'that', 'all', 'men', 'yes', 'black', 'men', 'as', 'well', 'as', 'white', 'men', 'would', 'be', 'guaranteed', 'the', 'unalienable', 'rights', 'of', 'life', 'liberty', 'and', 'the', 'pursuit', 'of', 'happiness', 'it', 'is', 'obvious', 'today', 'that', 'america', 'has', 'defaulted', 'on', 'this', 'promissory', 'note', 'insofar', 'as', 'her', 'citizens', 'of', 'color', 'are', 'concerned', 'instead', 'of', 'honoring', 'this', 'sacred', 'obligation', 'america', 'has', 'given', 'the', 'negro', 'people', 'a', 'bad', 'check', 'a', 'check', 'which', 'has', 'come', 'back', 'marked', 'insufficient', 'funds', 'but', 'we', 'refuse', 'to', 'believe', 'that', 'the', 'bank', 'of', 'justice', 'is', 'bankrupt', 'we', 'refuse', 'to', 'believe', 'that', 'there', 'are', 'insufficient', 'funds', 'in', 'the', 'great', 'vaults', 'of', 'opportunity', 'of', 'this', 'nation', 'and', 'so', 'we', 've', 'come', 'to', 'cash', 'this', 'check', 'a', 'check', 'that', 'will', 'give', 'us', 'upon', 'demand', 'the', 'riches', 'of', 'freedom', 'and', 'the', 'security', 'of', 'justice', 'we', 'have', 'also', 'come', 'to', 'this', 'hallowed', 'spot', 'to', 'remind', 'america', 'of', 'the', 'fierce', 'urgency', 'of', 'now', 'this', 'is', 'no', 'time', 'to', 'engage', 'in', 'the', 'luxury', 'of', 'cooling', 'off', 'or', 'to', 'take', 'the', 'tranquilizing', 'drug', 'of', 'gradualism', 'now', 'is', 'the', 'time', 'to', 'make', 'real', 'the', 'promises', 'of', 'democracy', 'now', 'is', 'the', 'time', 'to', 'rise', 'from', 'the', 'dark', 'and', 'desolate', 'valley', 'of', 'segregation', 'to', 'the', 'sunlit', 'path', 'of', 'racial', 'justice', 'now', 'is', 'the', 'time', 'to', 'lift', 'our', 'nation', 'from', 'the', 'quicksands', 'of', 'racial', 'injustice', 'to', 'the', 'solid', 'rock', 'of', 'brotherhood', 'now', 'is', 'the', 'time', 'to', 'make', 'justice', 'a', 'reality', 'for', 'all', 'of', 'god', 's', 'children', 'it', 'would', 'be', 'fatal', 'for', 'the', 'nation', 'to', 'overlook', 'the', 'urgency', 'of', 'the', 'moment', 'this', 'sweltering', 'summer', 'of', 'the', 'negro', 's', 'legitimate', 'discontent', 'will', 'not', 'pass', 'until', 'there', 'is', 'an', 'invigorating', 'autumn', 'of', 'freedom', 'and', 'equality', 'nineteen', 'sixty', 'three', 'is', 'not', 'an', 'end', 'but', 'a', 'beginning', 'and', 'those', 'who', 'hope', 'that', 'the', 'negro', 'needed', 'to', 'blow', 'off', 'steam', 'and', 'will', 'now', 'be', 'content', 'will', 'have', 'a', 'rude', 'awakening', 'if', 'the', 'nation', 'returns', 'to', 'business', 'as', 'usual', 'and', 'there', 'will', 'be', 'neither', 'rest', 'nor', 'tranquility', 'in', 'america', 'until', 'the', 'negro', 'is', 'granted', 'his', 'citizenship', 'rights', 'the', 'whirlwinds', 'of', 'revolt', 'will', 'continue', 'to', 'shake', 'the', 'foundations', 'of', 'our', 'nation', 'until', 'the', 'bright', 'day', 'of', 'justice', 'emerges', 'but', 'there', 'is', 'something', 'that', 'i', 'must', 'say', 'to', 'my', 'people', 'who', 'stand', 'on', 'the', 'warm', 'threshold', 'which', 'leads', 'into', 'the', 'palace', 'of', 'justice', 'in', 'the', 'process', 'of', 'gaining', 'our', 'rightful', 'place', 'we', 'must', 'not', 'be', 'guilty', 'of', 'wrongful', 'deeds', 'let', 'us', 'not', 'seek', 'to', 'satisfy', 'our', 'thirst', 'for', 'freedom', 'by', 'drinking', 'from', 'the', 'cup', 'of', 'bitterness', 'and', 'hatred', 'we', 'must', 'forever', 'conduct', 'our', 'struggle', 'on', 'the', 'high', 'plane', 'of', 'dignity', 'and', 'discipline', 'we', 'must', 'not', 'allow', 'our', 'creative', 'protest', 'to', 'degenerate', 'into', 'physical', 'violence', 'again', 'and', 'again', 'we', 'must', 'rise', 'to', 'the', 'majestic', 'heights', 'of', 'meeting', 'physical', 'force', 'with', 'soul', 'force', 'the', 'marvelous', 'new', 'militancy', 'which', 'has', 'engulfed', 'the', 'negro', 'community', 'must', 'not', 'lead', 'us', 'to', 'a', 'distrust', 'of', 'all', 'white', 'people', 'for', 'many', 'of', 'our', 'white', 'brothers', 'as', 'evidenced', 'by', 'their', 'presence', 'here', 'today', 'have', 'come', 'to', 'realize', 'that', 'their', 'destiny', 'is', 'tied', 'up', 'with', 'our', 'destiny', 'and', 'they', 'have', 'come', 'to', 'realize', 'that', 'their', 'freedom', 'is', 'inextricably', 'bound', 'to', 'our', 'freedom', 'we', 'cannot', 'walk', 'alone', 'and', 'as', 'we', 'walk', 'we', 'must', 'make', 'the', 'pledge', 'that', 'we', 'shall', 'always', 'march', 'ahead', 'we', 'cannot', 'turn', 'back', 'there', 'are', 'those', 'who', 'are', 'asking', 'the', 'devotees', 'of', 'civil', 'rights', 'when', 'will', 'you', 'be', 'satisfied', 'we', 'can', 'never', 'be', 'satisfied', 'as', 'long', 'as', 'the', 'negro', 'is', 'the', 'victim', 'of', 'the', 'unspeakable', 'horrors', 'of', 'police', 'brutality', 'we', 'can', 'never', 'be', 'satisfied', 'as', 'long', 'as', 'our', 'bodies', 'heavy', 'with', 'the', 'fatigue', 'of', 'travel', 'cannot', 'gain', 'lodging', 'in', 'the', 'motels', 'of', 'the', 'highways', 'and', 'the', 'hotels', 'of', 'the', 'cities', 'we', 'cannot', 'be', 'satisfied', 'as', 'long', 'as', 'a', 'negro', 'in', 'mississippi', 'cannot', 'vote', 'and', 'a', 'negro', 'in', 'new', 'york', 'believes', 'he', 'has', 'nothing', 'for', 'which', 'to', 'vote', 'no', 'no', 'we', 'are', 'not', 'satisfied', 'and', 'we', 'will', 'not', 'be', 'satisfied', 'until', 'justice', 'rolls', 'down', 'like', 'waters', 'and', 'righteousness', 'like', 'a', 'mighty', 'stream', 'i', 'am', 'not', 'unmindful', 'that', 'some', 'of', 'you', 'have', 'come', 'here', 'out', 'of', 'great', 'trials', 'and', 'tribulations', 'some', 'of', 'you', 'have', 'come', 'fresh', 'from', 'narrow', 'jail', 'cells', 'and', 'some', 'of', 'you', 'have', 'come', 'from', 'areas', 'where', 'your', 'quest', 'quest', 'for', 'freedom', 'left', 'you', 'battered', 'by', 'the', 'storms', 'of', 'persecution', 'and', 'staggered', 'by', 'the', 'winds', 'of', 'police', 'brutality', 'you', 'have', 'been', 'the', 'veterans', 'of', 'creative', 'suffering', 'continue', 'to', 'work', 'with', 'the', 'faith', 'that', 'unearned', 'suffering', 'is', 'redemptive', 'go', 'back', 'to', 'mississippi', 'go', 'back', 'to', 'alabama', 'go', 'back', 'to', 'south', 'carolina', 'go', 'back', 'to', 'georgia', 'go', 'back', 'to', 'louisiana', 'go', 'back', 'to', 'the', 'slums', 'and', 'ghettos', 'of', 'our', 'northern', 'cities', 'knowing', 'that', 'somehow', 'this', 'situation', 'can', 'and', 'will', 'be', 'changed', 'let', 'us', 'not', 'wallow', 'in', 'the', 'valley', 'of', 'despair', 'i', 'say', 'to', 'you', 'today', 'my', 'friends', 'and', 'so', 'even', 'though', 'we', 'face', 'the', 'difficulties', 'of', 'today', 'and', 'tomorrow', 'i', 'still', 'have', 'a', 'dream', 'it', 'is', 'a', 'dream', 'deeply', 'rooted', 'in', 'the', 'american', 'dream', 'i', 'have', 'a', 'dream', 'that', 'one', 'day', 'this', 'nation', 'will', 'rise', 'up', 'and', 'live', 'out', 'the', 'true', 'meaning', 'of', 'its', 'creed', 'we', 'hold', 'these', 'truths', 'to', 'be', 'self', 'evident', 'that', 'all', 'men', 'are', 'created', 'equal', 'i', 'have', 'a', 'dream', 'that', 'one', 'day', 'on', 'the', 'red', 'hills', 'of', 'georgia', 'the', 'sons', 'of', 'former', 'slaves', 'and', 'the', 'sons', 'of', 'former', 'slave', 'owners', 'will', 'be', 'able', 'to', 'sit', 'down', 'together', 'at', 'the', 'table', 'of', 'brotherhood', 'i', 'have', 'a', 'dream', 'that', 'one', 'day', 'even', 'the', 'state', 'of', 'mississippi', 'a', 'state', 'sweltering', 'with', 'the', 'heat', 'of', 'injustice', 'sweltering', 'with', 'the', 'heat', 'of', 'oppression', 'will', 'be', 'transformed', 'into', 'an', 'oasis', 'of', 'freedom', 'and', 'justice', 'i', 'have', 'a', 'dream', 'that', 'my', 'four', 'little', 'children', 'will', 'one', 'day', 'live', 'in', 'a', 'nation', 'where', 'they', 'will', 'not', 'be', 'judged', 'by', 'the', 'color', 'of', 'their', 'skin', 'but', 'by', 'the', 'content', 'of', 'their', 'character', 'i', 'have', 'a', 'dream', 'today', 'i', 'have', 'a', 'dream', 'that', 'one', 'day', 'down', 'in', 'alabama', 'with', 'its', 'vicious', 'racists', 'with', 'its', 'governor', 'having', 'his', 'lips', 'dripping', 'with', 'the', 'words', 'of', 'interposition', 'and', 'nullification', 'one', 'day', 'right', 'there', 'in', 'alabama', 'little', 'black', 'boys', 'and', 'black', 'girls', 'will', 'be', 'able', 'to', 'join', 'hands', 'with', 'little', 'white', 'boys', 'and', 'white', 'girls', 'as', 'sisters', 'and', 'brothers', 'i', 'have', 'a', 'dream', 'today', 'i', 'have', 'a', 'dream', 'that', 'one', 'day', 'every', 'valley', 'shall', 'be', 'exalted', 'and', 'every', 'hill', 'and', 'mountain', 'shall', 'be', 'made', 'low', 'the', 'rough', 'places', 'will', 'be', 'made', 'plain', 'and', 'the', 'crooked', 'places', 'will', 'be', 'made', 'straight', 'and', 'the', 'glory', 'of', 'the', 'lord', 'shall', 'be', 'revealed', 'and', 'all', 'flesh', 'shall', 'see', 'it', 'together', 'this', 'is', 'our', 'hope', 'and', 'this', 'is', 'the', 'faith', 'that', 'i', 'go', 'back', 'to', 'the', 'south', 'with', 'with', 'this', 'faith', 'we', 'will', 'be', 'able', 'to', 'hew', 'out', 'of', 'the', 'mountain', 'of', 'despair', 'a', 'stone', 'of', 'hope', 'with', 'this', 'faith', 'we', 'will', 'be', 'able', 'to', 'transform', 'the', 'jangling', 'discords', 'of', 'our', 'nation', 'into', 'a', 'beautiful', 'symphony', 'of', 'brotherhood', 'with', 'this', 'faith', 'we', 'will', 'be', 'able', 'to', 'work', 'together', 'to', 'pray', 'together', 'to', 'struggle', 'together', 'to', 'go', 'to', 'jail', 'together', 'to', 'stand', 'up', 'for', 'freedom', 'together', 'knowing', 'that', 'we', 'will', 'be', 'free', 'one', 'day', 'and', 'this', 'will', 'be', 'the', 'day', 'this', 'will', 'be', 'the', 'day', 'when', 'all', 'of', 'god', 's', 'children', 'will', 'be', 'able', 'to', 'sing', 'with', 'new', 'meaning', 'my', 'country', 'tis', 'of', 'thee', 'sweet', 'land', 'of', 'liberty', 'of', 'thee', 'i', 'sing', 'land', 'where', 'my', 'fathers', 'died', 'land', 'of', 'the', 'pilgrim', 's', 'pride', 'from', 'every', 'mountainside', 'let', 'freedom', 'ring', 'and', 'if', 'america', 'is', 'to', 'be', 'a', 'great', 'nation', 'this', 'must', 'become', 'true', 'and', 'so', 'let', 'freedom', 'ring', 'from', 'the', 'prodigious', 'hilltops', 'of', 'new', 'hampshire', 'let', 'freedom', 'ring', 'from', 'the', 'mighty', 'mountains', 'of', 'new', 'york', 'let', 'freedom', 'ring', 'from', 'the', 'heightening', 'alleghenies', 'of', 'pennsylvania', 'let', 'freedom', 'ring', 'from', 'the', 'snow', 'capped', 'rockies', 'of', 'colorado', 'let', 'freedom', 'ring', 'from', 'the', 'curvaceous', 'slopes', 'of', 'california', 'but', 'not', 'only', 'that', 'let', 'freedom', 'ring', 'from', 'stone', 'mountain', 'of', 'georgia', 'let', 'freedom', 'ring', 'from', 'lookout', 'mountain', 'of', 'tennessee', 'let', 'freedom', 'ring', 'from', 'every', 'hill', 'and', 'molehill', 'of', 'mississippi', 'from', 'every', 'mountainside', 'let', 'freedom', 'ring', 'and', 'when', 'this', 'happens', 'when', 'we', 'allow', 'freedom', 'ring', 'when', 'we', 'let', 'it', 'ring', 'from', 'every', 'village', 'and', 'every', 'hamlet', 'from', 'every', 'state', 'and', 'every', 'city', 'we', 'will', 'be', 'able', 'to', 'speed', 'up', 'that', 'day', 'when', 'all', 'of', 'god', 's', 'children', 'black', 'men', 'and', 'white', 'men', 'jews', 'and', 'gentiles', 'protestants', 'and', 'catholics', 'will', 'be', 'able', 'to', 'join', 'hands', 'and', 'sing', 'in', 'the', 'words', 'of', 'the', 'old', 'negro', 'spiritual', 'free', 'at', 'last', 'free', 'at', 'last', 'thank', 'god', 'almighty', 'we', 'are', 'free', 'at', 'last']\n"
     ]
    }
   ],
   "source": [
    "import re\n",
    "\n",
    "# 你不用太关心这个函数\n",
    "def parse(text):\n",
    "    # 使用正则表达式去除标点符号和换行符\n",
    "    text = re.sub(r'[^\\w]', ' ', text)\n",
    "    \n",
    "    # 转为小写\n",
    "    text = text.lower()\n",
    "    \n",
    "    # 生成所有单词的列表\n",
    "    word_list = text.split(' ')\n",
    "    \n",
    "    # 去除空白单词\n",
    "    word_list = filter(None, word_list)\n",
    "    \n",
    "    # 只保留英文单字\n",
    "    word_list = [word for word in word_list if word[0] <= 'z']\n",
    "    print(word_list)\n",
    "    \n",
    "    # 生成单词和词频的字典\n",
    "    word_cnt = {}\n",
    "    for word in word_list:\n",
    "        if word not in word_cnt:\n",
    "            word_cnt[word] = 0\n",
    "        word_cnt[word] += 1\n",
    "        \n",
    "    # 按照词频排序\n",
    "    sorted_word_cnt = sorted(word_cnt.items(), key=lambda kv: kv[1], reverse=True)\n",
    "    \n",
    "    return sorted_word_cnt\n",
    "\n",
    "with open('in.txt', 'r') as fin:\n",
    "    text = fin.read()\n",
    "\n",
    "word_and_freq = parse(text)\n",
    "\n",
    "with open('out.txt', 'w') as fout:\n",
    "    for word, freq in word_and_freq:\n",
    "        fout.write('{} {}\\n'.format(word, freq))"
   ]
  },
  {
   "cell_type": "code",
   "execution_count": 13,
   "metadata": {},
   "outputs": [],
   "source": [
    "s = 'world'"
   ]
  },
  {
   "cell_type": "code",
   "execution_count": 15,
   "metadata": {},
   "outputs": [
    {
     "data": {
      "text/plain": [
       "['__add__',\n",
       " '__class__',\n",
       " '__contains__',\n",
       " '__delattr__',\n",
       " '__dir__',\n",
       " '__doc__',\n",
       " '__eq__',\n",
       " '__format__',\n",
       " '__ge__',\n",
       " '__getattribute__',\n",
       " '__getitem__',\n",
       " '__getnewargs__',\n",
       " '__gt__',\n",
       " '__hash__',\n",
       " '__init__',\n",
       " '__init_subclass__',\n",
       " '__iter__',\n",
       " '__le__',\n",
       " '__len__',\n",
       " '__lt__',\n",
       " '__mod__',\n",
       " '__mul__',\n",
       " '__ne__',\n",
       " '__new__',\n",
       " '__reduce__',\n",
       " '__reduce_ex__',\n",
       " '__repr__',\n",
       " '__rmod__',\n",
       " '__rmul__',\n",
       " '__setattr__',\n",
       " '__sizeof__',\n",
       " '__str__',\n",
       " '__subclasshook__',\n",
       " 'capitalize',\n",
       " 'casefold',\n",
       " 'center',\n",
       " 'count',\n",
       " 'encode',\n",
       " 'endswith',\n",
       " 'expandtabs',\n",
       " 'find',\n",
       " 'format',\n",
       " 'format_map',\n",
       " 'index',\n",
       " 'isalnum',\n",
       " 'isalpha',\n",
       " 'isascii',\n",
       " 'isdecimal',\n",
       " 'isdigit',\n",
       " 'isidentifier',\n",
       " 'islower',\n",
       " 'isnumeric',\n",
       " 'isprintable',\n",
       " 'isspace',\n",
       " 'istitle',\n",
       " 'isupper',\n",
       " 'join',\n",
       " 'ljust',\n",
       " 'lower',\n",
       " 'lstrip',\n",
       " 'maketrans',\n",
       " 'partition',\n",
       " 'replace',\n",
       " 'rfind',\n",
       " 'rindex',\n",
       " 'rjust',\n",
       " 'rpartition',\n",
       " 'rsplit',\n",
       " 'rstrip',\n",
       " 'split',\n",
       " 'splitlines',\n",
       " 'startswith',\n",
       " 'strip',\n",
       " 'swapcase',\n",
       " 'title',\n",
       " 'translate',\n",
       " 'upper',\n",
       " 'zfill']"
      ]
     },
     "execution_count": 15,
     "metadata": {},
     "output_type": "execute_result"
    }
   ],
   "source": [
    "dir(s)"
   ]
  },
  {
   "cell_type": "code",
   "execution_count": 16,
   "metadata": {},
   "outputs": [
    {
     "name": "stdout",
     "output_type": "stream",
     "text": [
      "Help on built-in function isalpha:\n",
      "\n",
      "isalpha() method of builtins.str instance\n",
      "    Return True if the string is an alphabetic string, False otherwise.\n",
      "    \n",
      "    A string is alphabetic if all characters in the string are alphabetic and there\n",
      "    is at least one character in the string.\n",
      "\n"
     ]
    }
   ],
   "source": [
    "help(s.isalpha)"
   ]
  },
  {
   "cell_type": "code",
   "execution_count": 21,
   "metadata": {},
   "outputs": [
    {
     "data": {
      "text/plain": [
       "True"
      ]
     },
     "execution_count": 21,
     "metadata": {},
     "output_type": "execute_result"
    }
   ],
   "source": [
    "s.isalpha()"
   ]
  },
  {
   "cell_type": "code",
   "execution_count": 28,
   "metadata": {},
   "outputs": [],
   "source": [
    "c = '在一起'"
   ]
  },
  {
   "cell_type": "code",
   "execution_count": 39,
   "metadata": {},
   "outputs": [
    {
     "data": {
      "text/plain": [
       "False"
      ]
     },
     "execution_count": 39,
     "metadata": {},
     "output_type": "execute_result"
    }
   ],
   "source": [
    "len(ascii(c)) == len(c)"
   ]
  },
  {
   "cell_type": "code",
   "execution_count": 38,
   "metadata": {},
   "outputs": [
    {
     "data": {
      "text/plain": [
       "False"
      ]
     },
     "execution_count": 38,
     "metadata": {},
     "output_type": "execute_result"
    }
   ],
   "source": [
    "len(ascii(s)) == len(s)"
   ]
  },
  {
   "cell_type": "code",
   "execution_count": 40,
   "metadata": {},
   "outputs": [
    {
     "data": {
      "text/plain": [
       "True"
      ]
     },
     "execution_count": 40,
     "metadata": {},
     "output_type": "execute_result"
    }
   ],
   "source": [
    "s.islower()"
   ]
  },
  {
   "cell_type": "code",
   "execution_count": 41,
   "metadata": {},
   "outputs": [
    {
     "data": {
      "text/plain": [
       "False"
      ]
     },
     "execution_count": 41,
     "metadata": {},
     "output_type": "execute_result"
    }
   ],
   "source": [
    "c.islower()"
   ]
  },
  {
   "cell_type": "markdown",
   "metadata": {},
   "source": [
    "## JSON序列化与实战"
   ]
  },
  {
   "cell_type": "code",
   "execution_count": 1,
   "metadata": {},
   "outputs": [],
   "source": [
    "import json"
   ]
  },
  {
   "cell_type": "code",
   "execution_count": 3,
   "metadata": {},
   "outputs": [],
   "source": [
    "params = {\n",
    "    'symblo': '123456',\n",
    "    'type': 'limit',\n",
    "    'price': 123.4,\n",
    "    'amount': 23\n",
    "}"
   ]
  },
  {
   "cell_type": "code",
   "execution_count": 4,
   "metadata": {},
   "outputs": [],
   "source": [
    "params_str = json.dumps(params)"
   ]
  },
  {
   "cell_type": "code",
   "execution_count": 5,
   "metadata": {},
   "outputs": [
    {
     "name": "stdout",
     "output_type": "stream",
     "text": [
      "after json serialization\n",
      "type of params_str = <class 'str'>, params_str = {\"symblo\": \"123456\", \"type\": \"limit\", \"price\": 123.4, \"amount\": 23}\n"
     ]
    }
   ],
   "source": [
    "print(\"after json serialization\")\n",
    "print('type of params_str = {}, params_str = {}'.format(type(params_str), params_str))"
   ]
  },
  {
   "cell_type": "code",
   "execution_count": 7,
   "metadata": {},
   "outputs": [],
   "source": [
    "original_params = json.loads(params_str)"
   ]
  },
  {
   "cell_type": "code",
   "execution_count": 8,
   "metadata": {},
   "outputs": [
    {
     "name": "stdout",
     "output_type": "stream",
     "text": [
      "after json deserialization\n",
      "type of original_params = <class 'dict'>, original_params = {'symblo': '123456', 'type': 'limit', 'price': 123.4, 'amount': 23}\n"
     ]
    }
   ],
   "source": [
    "print('after json deserialization')\n",
    "print('type of original_params = {}, original_params = {}'.format(type(original_params), original_params))"
   ]
  },
  {
   "cell_type": "code",
   "execution_count": 9,
   "metadata": {},
   "outputs": [
    {
     "data": {
      "text/plain": [
       "'{\"symblo\": \"123456\", \"type\": \"limit\", \"price\": 123.4, \"amount\": 23}'"
      ]
     },
     "execution_count": 9,
     "metadata": {},
     "output_type": "execute_result"
    }
   ],
   "source": [
    "params_str"
   ]
  },
  {
   "cell_type": "code",
   "execution_count": 10,
   "metadata": {},
   "outputs": [
    {
     "data": {
      "text/plain": [
       "{'symblo': '123456', 'type': 'limit', 'price': 123.4, 'amount': 23}"
      ]
     },
     "execution_count": 10,
     "metadata": {},
     "output_type": "execute_result"
    }
   ],
   "source": [
    "original_params"
   ]
  },
  {
   "cell_type": "code",
   "execution_count": 11,
   "metadata": {},
   "outputs": [
    {
     "name": "stdout",
     "output_type": "stream",
     "text": [
      "Help on function load in module json:\n",
      "\n",
      "load(fp, *, cls=None, object_hook=None, parse_float=None, parse_int=None, parse_constant=None, object_pairs_hook=None, **kw)\n",
      "    Deserialize ``fp`` (a ``.read()``-supporting file-like object containing\n",
      "    a JSON document) to a Python object.\n",
      "    \n",
      "    ``object_hook`` is an optional function that will be called with the\n",
      "    result of any object literal decode (a ``dict``). The return value of\n",
      "    ``object_hook`` will be used instead of the ``dict``. This feature\n",
      "    can be used to implement custom decoders (e.g. JSON-RPC class hinting).\n",
      "    \n",
      "    ``object_pairs_hook`` is an optional function that will be called with the\n",
      "    result of any object literal decoded with an ordered list of pairs.  The\n",
      "    return value of ``object_pairs_hook`` will be used instead of the ``dict``.\n",
      "    This feature can be used to implement custom decoders.  If ``object_hook``\n",
      "    is also defined, the ``object_pairs_hook`` takes priority.\n",
      "    \n",
      "    To use a custom ``JSONDecoder`` subclass, specify it with the ``cls``\n",
      "    kwarg; otherwise ``JSONDecoder`` is used.\n",
      "\n"
     ]
    }
   ],
   "source": [
    "help(json.load)"
   ]
  },
  {
   "cell_type": "code",
   "execution_count": 12,
   "metadata": {},
   "outputs": [
    {
     "name": "stdout",
     "output_type": "stream",
     "text": [
      "Help on function loads in module json:\n",
      "\n",
      "loads(s, *, cls=None, object_hook=None, parse_float=None, parse_int=None, parse_constant=None, object_pairs_hook=None, **kw)\n",
      "    Deserialize ``s`` (a ``str``, ``bytes`` or ``bytearray`` instance\n",
      "    containing a JSON document) to a Python object.\n",
      "    \n",
      "    ``object_hook`` is an optional function that will be called with the\n",
      "    result of any object literal decode (a ``dict``). The return value of\n",
      "    ``object_hook`` will be used instead of the ``dict``. This feature\n",
      "    can be used to implement custom decoders (e.g. JSON-RPC class hinting).\n",
      "    \n",
      "    ``object_pairs_hook`` is an optional function that will be called with the\n",
      "    result of any object literal decoded with an ordered list of pairs.  The\n",
      "    return value of ``object_pairs_hook`` will be used instead of the ``dict``.\n",
      "    This feature can be used to implement custom decoders.  If ``object_hook``\n",
      "    is also defined, the ``object_pairs_hook`` takes priority.\n",
      "    \n",
      "    ``parse_float``, if specified, will be called with the string\n",
      "    of every JSON float to be decoded. By default this is equivalent to\n",
      "    float(num_str). This can be used to use another datatype or parser\n",
      "    for JSON floats (e.g. decimal.Decimal).\n",
      "    \n",
      "    ``parse_int``, if specified, will be called with the string\n",
      "    of every JSON int to be decoded. By default this is equivalent to\n",
      "    int(num_str). This can be used to use another datatype or parser\n",
      "    for JSON integers (e.g. float).\n",
      "    \n",
      "    ``parse_constant``, if specified, will be called with one of the\n",
      "    following strings: -Infinity, Infinity, NaN.\n",
      "    This can be used to raise an exception if invalid JSON numbers\n",
      "    are encountered.\n",
      "    \n",
      "    To use a custom ``JSONDecoder`` subclass, specify it with the ``cls``\n",
      "    kwarg; otherwise ``JSONDecoder`` is used.\n",
      "    \n",
      "    The ``encoding`` argument is ignored and deprecated since Python 3.1.\n",
      "\n"
     ]
    }
   ],
   "source": [
    "help(json.loads)"
   ]
  },
  {
   "cell_type": "code",
   "execution_count": 13,
   "metadata": {},
   "outputs": [
    {
     "name": "stdout",
     "output_type": "stream",
     "text": [
      "after json deserialization\n",
      "type of original_params = <class 'dict'>, original_params = {'symbol': '123456', 'type': 'limit', 'price': 123.4, 'amount': 23}\n"
     ]
    }
   ],
   "source": [
    "import json\n",
    "\n",
    "params = {\n",
    "    'symbol': '123456',\n",
    "    'type': 'limit',\n",
    "    'price': 123.4,\n",
    "    'amount': 23\n",
    "}\n",
    "\n",
    "with open('params.json', 'w') as fout:\n",
    "    params_str = json.dump(params, fout)\n",
    "    \n",
    "with open('params.json', 'r') as fin:\n",
    "    original_params = json.load(fin)\n",
    "    \n",
    "print('after json deserialization')\n",
    "print('type of original_params = {}, original_params = {}'.format(type(original_params), original_params))"
   ]
  },
  {
   "cell_type": "markdown",
   "metadata": {},
   "source": [
    "## 思考题"
   ]
  },
  {
   "cell_type": "code",
   "execution_count": 5,
   "metadata": {},
   "outputs": [],
   "source": [
    "import re\n",
    "import json\n",
    "\n",
    "\n",
    "def parse(fin):\n",
    "    # 生成单词和词频的字典\n",
    "    word_cnt = {}\n",
    "\n",
    "    for f in fin:\n",
    "\n",
    "        text_line = f\n",
    "\n",
    "        # 使用正则表达式去除标点符号和换行符\n",
    "        text = re.sub(r'[^\\w]', ' ', text_line)\n",
    "\n",
    "        # 转为小写\n",
    "        text = text.lower()\n",
    "\n",
    "        # 生成所有单词的列表\n",
    "        word_list = text.split(' ')\n",
    "\n",
    "        # 去除空白单词\n",
    "        word_list = filter(None, word_list)\n",
    "\n",
    "        # 只保留英文单字\n",
    "        word_list = [word for word in word_list if word[0] <= 'z']\n",
    "\n",
    "        # 生成单词和词频的字典\n",
    "        for word in word_list:\n",
    "            if word not in word_cnt:\n",
    "                word_cnt[word] = 0\n",
    "            word_cnt[word] += 1\n",
    "\n",
    "    # 按照词频排序\n",
    "    sorted_word_cnt = sorted(word_cnt.items(), key=lambda kv: kv[1], reverse=True)\n",
    "\n",
    "    return sorted_word_cnt\n",
    "\n",
    "\n",
    "with open('in.txt', 'r') as fin:\n",
    "    word_and_freq = parse(fin)\n",
    "\n",
    "word_and_freq_dict = {}\n",
    "for word, freq in word_and_freq:\n",
    "    word_and_freq_dict[word] = freq\n",
    "\n",
    "with open('dict_out.json', 'w') as fout:\n",
    "    json.dump(word_and_freq_dict, fout)"
   ]
  },
  {
   "cell_type": "code",
   "execution_count": null,
   "metadata": {},
   "outputs": [],
   "source": []
  }
 ],
 "metadata": {
  "kernelspec": {
   "display_name": "Python 3",
   "language": "python",
   "name": "python3"
  }
 },
 "nbformat": 4,
 "nbformat_minor": 4
}
