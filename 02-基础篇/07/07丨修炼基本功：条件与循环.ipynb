{
 "cells": [
  {
   "cell_type": "markdown",
   "metadata": {},
   "source": [
    "## 条件语句"
   ]
  },
  {
   "cell_type": "code",
   "execution_count": 4,
   "metadata": {},
   "outputs": [],
   "source": [
    "# y = |x|\n",
    "\n",
    "x = 7\n",
    "\n",
    "if x < 0:\n",
    "    y = -x\n",
    "else:\n",
    "    y = x"
   ]
  },
  {
   "cell_type": "code",
   "execution_count": 5,
   "metadata": {},
   "outputs": [],
   "source": [
    "if (x < 0):\n",
    "    print(x)"
   ]
  },
  {
   "cell_type": "code",
   "execution_count": 6,
   "metadata": {},
   "outputs": [
    {
     "name": "stdout",
     "output_type": "stream",
     "text": [
      "red\n"
     ]
    }
   ],
   "source": [
    "id = 0\n",
    "\n",
    "if id == 0:\n",
    "    print('red')\n",
    "elif id == 1:\n",
    "    print('yellow')\n",
    "else:\n",
    "    print('green')"
   ]
  },
  {
   "cell_type": "markdown",
   "metadata": {},
   "source": [
    "## 判断条件的省略用法"
   ]
  },
  {
   "cell_type": "markdown",
   "metadata": {},
   "source": [
    "| 数据类型 | 结果 |\n",
    "|:--------------:|:-------------:|\n",
    "| String | 空字符串解析为False，其余为True |\n",
    "| Int |0解析为False，其余为True |\n",
    "| Bool | True为True, False为False |\n",
    "|list/tuple/dict/set|Iterable为空解析为False，其余为True|\n",
    "|Object|None解析为False，其余为True|"
   ]
  },
  {
   "cell_type": "markdown",
   "metadata": {},
   "source": [
    "## 循环语句"
   ]
  },
  {
   "cell_type": "code",
   "execution_count": 9,
   "metadata": {},
   "outputs": [],
   "source": [
    "l = [1, 2, 3, 4]"
   ]
  },
  {
   "cell_type": "code",
   "execution_count": 10,
   "metadata": {},
   "outputs": [
    {
     "name": "stdout",
     "output_type": "stream",
     "text": [
      "1\n",
      "2\n",
      "3\n",
      "4\n"
     ]
    }
   ],
   "source": [
    "for item in l:\n",
    "    print(item)"
   ]
  },
  {
   "cell_type": "code",
   "execution_count": 11,
   "metadata": {},
   "outputs": [],
   "source": [
    "d = {'name': 'jason', 'dob': '2000-01-01', 'gemder': 'male'}"
   ]
  },
  {
   "cell_type": "code",
   "execution_count": 12,
   "metadata": {},
   "outputs": [
    {
     "name": "stdout",
     "output_type": "stream",
     "text": [
      "name\n",
      "dob\n",
      "gemder\n"
     ]
    }
   ],
   "source": [
    "for k in d: # 遍历字典的键\n",
    "    print(k)"
   ]
  },
  {
   "cell_type": "code",
   "execution_count": 13,
   "metadata": {},
   "outputs": [
    {
     "name": "stdout",
     "output_type": "stream",
     "text": [
      "jason\n",
      "2000-01-01\n",
      "male\n"
     ]
    }
   ],
   "source": [
    "for v in d.values(): # 遍历字典的值\n",
    "    print(v)"
   ]
  },
  {
   "cell_type": "code",
   "execution_count": 14,
   "metadata": {},
   "outputs": [
    {
     "name": "stdout",
     "output_type": "stream",
     "text": [
      "('name', 'jason')\n",
      "('dob', '2000-01-01')\n",
      "('gemder', 'male')\n"
     ]
    }
   ],
   "source": [
    "for k_v in d.items():\n",
    "    print(k_v)"
   ]
  },
  {
   "cell_type": "code",
   "execution_count": 15,
   "metadata": {},
   "outputs": [
    {
     "name": "stdout",
     "output_type": "stream",
     "text": [
      "key: name, value: jason\n",
      "key: dob, value: 2000-01-01\n",
      "key: gemder, value: male\n"
     ]
    }
   ],
   "source": [
    "for k, v in d.items(): # 遍历字典的键值对\n",
    "    print(\"key: {}, value: {}\".format(k, v))"
   ]
  },
  {
   "cell_type": "code",
   "execution_count": 16,
   "metadata": {},
   "outputs": [],
   "source": [
    "l = [1, 2, 3, 4, 5, 6, 7]"
   ]
  },
  {
   "cell_type": "code",
   "execution_count": 17,
   "metadata": {},
   "outputs": [
    {
     "name": "stdout",
     "output_type": "stream",
     "text": [
      "1\n",
      "2\n",
      "3\n",
      "4\n",
      "5\n"
     ]
    }
   ],
   "source": [
    "for index in range(0, len(l)):\n",
    "    if index < 5:\n",
    "        print(l[index])"
   ]
  },
  {
   "cell_type": "code",
   "execution_count": 18,
   "metadata": {},
   "outputs": [
    {
     "name": "stdout",
     "output_type": "stream",
     "text": [
      "(0, 1)\n",
      "(1, 2)\n",
      "(2, 3)\n",
      "(3, 4)\n",
      "(4, 5)\n",
      "(5, 6)\n",
      "(6, 7)\n"
     ]
    }
   ],
   "source": [
    "for index_item in enumerate(l):\n",
    "    print(index_item)"
   ]
  },
  {
   "cell_type": "code",
   "execution_count": 19,
   "metadata": {},
   "outputs": [
    {
     "name": "stdout",
     "output_type": "stream",
     "text": [
      "1\n",
      "2\n",
      "3\n",
      "4\n",
      "5\n"
     ]
    }
   ],
   "source": [
    "for index, item in enumerate(l):\n",
    "    if index < 5:\n",
    "        print(item)"
   ]
  },
  {
   "cell_type": "code",
   "execution_count": 20,
   "metadata": {},
   "outputs": [
    {
     "ename": "NameError",
     "evalue": "name 'name_price' is not defined",
     "output_type": "error",
     "traceback": [
      "\u001b[0;31m---------------------------------------------------------------------------\u001b[0m",
      "\u001b[0;31mNameError\u001b[0m                                 Traceback (most recent call last)",
      "\u001b[0;32m<ipython-input-20-34fc76f90f77>\u001b[0m in \u001b[0;36m<module>\u001b[0;34m\u001b[0m\n\u001b[1;32m      2\u001b[0m \u001b[0;31m# name_color: 产品名称（str）到颜色列表（list of str）的映射字典\u001b[0m\u001b[0;34m\u001b[0m\u001b[0;34m\u001b[0m\u001b[0;34m\u001b[0m\u001b[0m\n\u001b[1;32m      3\u001b[0m \u001b[0;34m\u001b[0m\u001b[0m\n\u001b[0;32m----> 4\u001b[0;31m \u001b[0;32mfor\u001b[0m \u001b[0mname\u001b[0m\u001b[0;34m,\u001b[0m \u001b[0mprice\u001b[0m \u001b[0;32min\u001b[0m \u001b[0mname_price\u001b[0m\u001b[0;34m.\u001b[0m\u001b[0mitems\u001b[0m\u001b[0;34m(\u001b[0m\u001b[0;34m)\u001b[0m\u001b[0;34m:\u001b[0m\u001b[0;34m\u001b[0m\u001b[0;34m\u001b[0m\u001b[0m\n\u001b[0m\u001b[1;32m      5\u001b[0m     \u001b[0;32mif\u001b[0m \u001b[0mprice\u001b[0m \u001b[0;34m<\u001b[0m \u001b[0;36m1000\u001b[0m\u001b[0;34m:\u001b[0m\u001b[0;34m\u001b[0m\u001b[0;34m\u001b[0m\u001b[0m\n\u001b[1;32m      6\u001b[0m         \u001b[0;32mif\u001b[0m \u001b[0mname\u001b[0m \u001b[0;32min\u001b[0m \u001b[0mname_color\u001b[0m\u001b[0;34m:\u001b[0m\u001b[0;34m\u001b[0m\u001b[0;34m\u001b[0m\u001b[0m\n",
      "\u001b[0;31mNameError\u001b[0m: name 'name_price' is not defined"
     ]
    }
   ],
   "source": [
    "# name_price: 产品名称（str）到价格（int）的映射字典\n",
    "# name_color: 产品名称（str）到颜色列表（list of str）的映射字典\n",
    "\n",
    "for name, price in name_price.items():\n",
    "    if price < 1000:\n",
    "        if name in name_color:\n",
    "            for color in name_color[name]:\n",
    "                if color != 'red':\n",
    "                    print('name: {}, color: {}'.format(name, color))\n",
    "        else:\n",
    "            print('name: {}, color: {}'.format(name, 'None'))"
   ]
  },
  {
   "cell_type": "code",
   "execution_count": 21,
   "metadata": {},
   "outputs": [
    {
     "ename": "NameError",
     "evalue": "name 'name_price' is not defined",
     "output_type": "error",
     "traceback": [
      "\u001b[0;31m---------------------------------------------------------------------------\u001b[0m",
      "\u001b[0;31mNameError\u001b[0m                                 Traceback (most recent call last)",
      "\u001b[0;32m<ipython-input-21-3faca8563254>\u001b[0m in \u001b[0;36m<module>\u001b[0;34m\u001b[0m\n\u001b[1;32m      4\u001b[0m \u001b[0;31m# name_color: 产品名称（str）到颜色列表（list of str）的映射字典\u001b[0m\u001b[0;34m\u001b[0m\u001b[0;34m\u001b[0m\u001b[0;34m\u001b[0m\u001b[0m\n\u001b[1;32m      5\u001b[0m \u001b[0;34m\u001b[0m\u001b[0m\n\u001b[0;32m----> 6\u001b[0;31m \u001b[0;32mfor\u001b[0m \u001b[0mname\u001b[0m\u001b[0;34m,\u001b[0m \u001b[0mprice\u001b[0m \u001b[0;32min\u001b[0m \u001b[0mname_price\u001b[0m\u001b[0;34m.\u001b[0m\u001b[0mitems\u001b[0m\u001b[0;34m(\u001b[0m\u001b[0;34m)\u001b[0m\u001b[0;34m:\u001b[0m\u001b[0;34m\u001b[0m\u001b[0;34m\u001b[0m\u001b[0m\n\u001b[0m\u001b[1;32m      7\u001b[0m     \u001b[0;32mif\u001b[0m \u001b[0mprice\u001b[0m \u001b[0;34m>=\u001b[0m \u001b[0;36m1000\u001b[0m\u001b[0;34m:\u001b[0m\u001b[0;34m\u001b[0m\u001b[0;34m\u001b[0m\u001b[0m\n\u001b[1;32m      8\u001b[0m         \u001b[0;32mcontinue\u001b[0m\u001b[0;34m\u001b[0m\u001b[0;34m\u001b[0m\u001b[0m\n",
      "\u001b[0;31mNameError\u001b[0m: name 'name_price' is not defined"
     ]
    }
   ],
   "source": [
    "# 加入continue后，代码显然清晰了好多\n",
    "\n",
    "# name_price: 产品名称（str）到价格（int）的映射字典\n",
    "# name_color: 产品名称（str）到颜色列表（list of str）的映射字典\n",
    "\n",
    "for name, price in name_price.items():\n",
    "    if price >= 1000:\n",
    "        continue\n",
    "    if name not in name_color:\n",
    "        print('name: {}, color: {}'.format(name, 'None'))\n",
    "        continue\n",
    "    for color in name_color[name]:\n",
    "        if color == 'red':\n",
    "            continue\n",
    "        print('name: {}, color: {}'.format(name, color))"
   ]
  },
  {
   "cell_type": "code",
   "execution_count": 22,
   "metadata": {},
   "outputs": [],
   "source": [
    "l = [1, 2, 3, 4, 5]"
   ]
  },
  {
   "cell_type": "code",
   "execution_count": 23,
   "metadata": {},
   "outputs": [],
   "source": [
    "index = 0"
   ]
  },
  {
   "cell_type": "code",
   "execution_count": 24,
   "metadata": {},
   "outputs": [
    {
     "name": "stdout",
     "output_type": "stream",
     "text": [
      "1\n",
      "2\n",
      "3\n",
      "4\n",
      "5\n"
     ]
    }
   ],
   "source": [
    "while index < len(l):\n",
    "    print(l[index])\n",
    "    index += 1"
   ]
  },
  {
   "cell_type": "code",
   "execution_count": 28,
   "metadata": {},
   "outputs": [
    {
     "name": "stdout",
     "output_type": "stream",
     "text": [
      "Please enter your questions, enter \"q\" to exitq\n",
      "Exit system\n"
     ]
    }
   ],
   "source": [
    "while True:\n",
    "    try:\n",
    "        text = input('Please enter your questions, enter \"q\" to exit')\n",
    "        if text == 'q':\n",
    "            print('Exit system')\n",
    "            break\n",
    "        ...\n",
    "        ...\n",
    "    except Exception as err:\n",
    "        print('Encountered error: {}'.format(err))\n",
    "        break"
   ]
  },
  {
   "cell_type": "code",
   "execution_count": 29,
   "metadata": {},
   "outputs": [],
   "source": [
    "i = 0\n",
    "while i < 1000000:\n",
    "    i += 1"
   ]
  },
  {
   "cell_type": "code",
   "execution_count": 30,
   "metadata": {},
   "outputs": [],
   "source": [
    "for i in range(0, 1000000):\n",
    "    pass"
   ]
  },
  {
   "cell_type": "markdown",
   "metadata": {},
   "source": [
    "## 条件与循环的复用"
   ]
  },
  {
   "cell_type": "code",
   "execution_count": 31,
   "metadata": {},
   "outputs": [],
   "source": [
    "# expression1 if condition else expression2 for item in iterable"
   ]
  },
  {
   "cell_type": "code",
   "execution_count": 32,
   "metadata": {},
   "outputs": [],
   "source": [
    "# for item in iterable:\n",
    "#     if condition:\n",
    "#         expression1\n",
    "#     else:\n",
    "#         expression2"
   ]
  },
  {
   "cell_type": "code",
   "execution_count": 33,
   "metadata": {},
   "outputs": [],
   "source": [
    "# 如果没有else语句\n",
    "\n",
    "# expression for item in iterable if condition"
   ]
  },
  {
   "cell_type": "code",
   "execution_count": 36,
   "metadata": {},
   "outputs": [
    {
     "data": {
      "text/plain": [
       "[15, 13, 11, 9, 7, 5, 7, 9, 11, 13]"
      ]
     },
     "execution_count": 36,
     "metadata": {},
     "output_type": "execute_result"
    }
   ],
   "source": [
    "x = [x -5 for x in range(10)]\n",
    "y = [value * 2 + 5 if value > 0 else -value * 2 + 5 for value in x]\n",
    "y"
   ]
  },
  {
   "cell_type": "code",
   "execution_count": 37,
   "metadata": {},
   "outputs": [],
   "source": [
    "text = ' Today, is, Sunday'"
   ]
  },
  {
   "cell_type": "code",
   "execution_count": 38,
   "metadata": {},
   "outputs": [],
   "source": [
    "text_list = [s.strip() for s in text.split(',') if len(s.strip()) > 3]"
   ]
  },
  {
   "cell_type": "code",
   "execution_count": 39,
   "metadata": {},
   "outputs": [
    {
     "data": {
      "text/plain": [
       "['Today', 'Sunday']"
      ]
     },
     "execution_count": 39,
     "metadata": {},
     "output_type": "execute_result"
    }
   ],
   "source": [
    "text_list"
   ]
  },
  {
   "cell_type": "code",
   "execution_count": 40,
   "metadata": {
    "scrolled": true
   },
   "outputs": [
    {
     "data": {
      "text/plain": [
       "[(-5, 15),\n",
       " (-5, 13),\n",
       " (-5, 11),\n",
       " (-5, 9),\n",
       " (-5, 7),\n",
       " (-5, 5),\n",
       " (-5, 7),\n",
       " (-5, 9),\n",
       " (-5, 11),\n",
       " (-5, 13),\n",
       " (-4, 15),\n",
       " (-4, 13),\n",
       " (-4, 11),\n",
       " (-4, 9),\n",
       " (-4, 7),\n",
       " (-4, 5),\n",
       " (-4, 7),\n",
       " (-4, 9),\n",
       " (-4, 11),\n",
       " (-4, 13),\n",
       " (-3, 15),\n",
       " (-3, 13),\n",
       " (-3, 11),\n",
       " (-3, 9),\n",
       " (-3, 7),\n",
       " (-3, 5),\n",
       " (-3, 7),\n",
       " (-3, 9),\n",
       " (-3, 11),\n",
       " (-3, 13),\n",
       " (-2, 15),\n",
       " (-2, 13),\n",
       " (-2, 11),\n",
       " (-2, 9),\n",
       " (-2, 7),\n",
       " (-2, 5),\n",
       " (-2, 7),\n",
       " (-2, 9),\n",
       " (-2, 11),\n",
       " (-2, 13),\n",
       " (-1, 15),\n",
       " (-1, 13),\n",
       " (-1, 11),\n",
       " (-1, 9),\n",
       " (-1, 7),\n",
       " (-1, 5),\n",
       " (-1, 7),\n",
       " (-1, 9),\n",
       " (-1, 11),\n",
       " (-1, 13),\n",
       " (0, 15),\n",
       " (0, 13),\n",
       " (0, 11),\n",
       " (0, 9),\n",
       " (0, 7),\n",
       " (0, 5),\n",
       " (0, 7),\n",
       " (0, 9),\n",
       " (0, 11),\n",
       " (0, 13),\n",
       " (1, 15),\n",
       " (1, 13),\n",
       " (1, 11),\n",
       " (1, 9),\n",
       " (1, 7),\n",
       " (1, 5),\n",
       " (1, 7),\n",
       " (1, 9),\n",
       " (1, 11),\n",
       " (1, 13),\n",
       " (2, 15),\n",
       " (2, 13),\n",
       " (2, 11),\n",
       " (2, 9),\n",
       " (2, 7),\n",
       " (2, 5),\n",
       " (2, 7),\n",
       " (2, 9),\n",
       " (2, 11),\n",
       " (2, 13),\n",
       " (3, 15),\n",
       " (3, 13),\n",
       " (3, 11),\n",
       " (3, 9),\n",
       " (3, 7),\n",
       " (3, 5),\n",
       " (3, 7),\n",
       " (3, 9),\n",
       " (3, 11),\n",
       " (3, 13),\n",
       " (4, 15),\n",
       " (4, 13),\n",
       " (4, 11),\n",
       " (4, 9),\n",
       " (4, 7),\n",
       " (4, 5),\n",
       " (4, 7),\n",
       " (4, 9),\n",
       " (4, 11),\n",
       " (4, 13)]"
      ]
     },
     "execution_count": 40,
     "metadata": {},
     "output_type": "execute_result"
    }
   ],
   "source": [
    "[(xx, yy) for xx in x for yy in y if xx != yy]"
   ]
  },
  {
   "cell_type": "code",
   "execution_count": 41,
   "metadata": {},
   "outputs": [],
   "source": [
    "l = []\n",
    "for xx in x:\n",
    "    for yy in y:\n",
    "        if xx != yy:\n",
    "            l.append((xx, yy))"
   ]
  },
  {
   "cell_type": "code",
   "execution_count": 42,
   "metadata": {
    "scrolled": true
   },
   "outputs": [
    {
     "data": {
      "text/plain": [
       "[(-5, 15),\n",
       " (-5, 13),\n",
       " (-5, 11),\n",
       " (-5, 9),\n",
       " (-5, 7),\n",
       " (-5, 5),\n",
       " (-5, 7),\n",
       " (-5, 9),\n",
       " (-5, 11),\n",
       " (-5, 13),\n",
       " (-4, 15),\n",
       " (-4, 13),\n",
       " (-4, 11),\n",
       " (-4, 9),\n",
       " (-4, 7),\n",
       " (-4, 5),\n",
       " (-4, 7),\n",
       " (-4, 9),\n",
       " (-4, 11),\n",
       " (-4, 13),\n",
       " (-3, 15),\n",
       " (-3, 13),\n",
       " (-3, 11),\n",
       " (-3, 9),\n",
       " (-3, 7),\n",
       " (-3, 5),\n",
       " (-3, 7),\n",
       " (-3, 9),\n",
       " (-3, 11),\n",
       " (-3, 13),\n",
       " (-2, 15),\n",
       " (-2, 13),\n",
       " (-2, 11),\n",
       " (-2, 9),\n",
       " (-2, 7),\n",
       " (-2, 5),\n",
       " (-2, 7),\n",
       " (-2, 9),\n",
       " (-2, 11),\n",
       " (-2, 13),\n",
       " (-1, 15),\n",
       " (-1, 13),\n",
       " (-1, 11),\n",
       " (-1, 9),\n",
       " (-1, 7),\n",
       " (-1, 5),\n",
       " (-1, 7),\n",
       " (-1, 9),\n",
       " (-1, 11),\n",
       " (-1, 13),\n",
       " (0, 15),\n",
       " (0, 13),\n",
       " (0, 11),\n",
       " (0, 9),\n",
       " (0, 7),\n",
       " (0, 5),\n",
       " (0, 7),\n",
       " (0, 9),\n",
       " (0, 11),\n",
       " (0, 13),\n",
       " (1, 15),\n",
       " (1, 13),\n",
       " (1, 11),\n",
       " (1, 9),\n",
       " (1, 7),\n",
       " (1, 5),\n",
       " (1, 7),\n",
       " (1, 9),\n",
       " (1, 11),\n",
       " (1, 13),\n",
       " (2, 15),\n",
       " (2, 13),\n",
       " (2, 11),\n",
       " (2, 9),\n",
       " (2, 7),\n",
       " (2, 5),\n",
       " (2, 7),\n",
       " (2, 9),\n",
       " (2, 11),\n",
       " (2, 13),\n",
       " (3, 15),\n",
       " (3, 13),\n",
       " (3, 11),\n",
       " (3, 9),\n",
       " (3, 7),\n",
       " (3, 5),\n",
       " (3, 7),\n",
       " (3, 9),\n",
       " (3, 11),\n",
       " (3, 13),\n",
       " (4, 15),\n",
       " (4, 13),\n",
       " (4, 11),\n",
       " (4, 9),\n",
       " (4, 7),\n",
       " (4, 5),\n",
       " (4, 7),\n",
       " (4, 9),\n",
       " (4, 11),\n",
       " (4, 13)]"
      ]
     },
     "execution_count": 42,
     "metadata": {},
     "output_type": "execute_result"
    }
   ],
   "source": [
    "l"
   ]
  },
  {
   "cell_type": "markdown",
   "metadata": {},
   "source": [
    "## 思考题"
   ]
  },
  {
   "cell_type": "code",
   "execution_count": 43,
   "metadata": {},
   "outputs": [],
   "source": [
    "attributes = ['name', 'dob', 'gender']\n",
    "values = [\n",
    "    ['jason', '2000-01-01', 'male'],\n",
    "    ['mike', '1999-01-01', 'male'],\n",
    "    ['nancy', '2001-02-01', 'female']\n",
    "]"
   ]
  },
  {
   "cell_type": "code",
   "execution_count": 51,
   "metadata": {},
   "outputs": [
    {
     "data": {
      "text/plain": [
       "[{'name': 'jason', 'dob': '2000-01-01', 'gender': 'male'},\n",
       " {'name': 'mike', 'dob': '1999-01-01', 'gender': 'male'},\n",
       " {'name': 'nancy', 'dob': '2001-02-01', 'gender': 'female'}]"
      ]
     },
     "execution_count": 51,
     "metadata": {},
     "output_type": "execute_result"
    }
   ],
   "source": [
    "l = []\n",
    "for value in values:\n",
    "    l.append(dict(zip(attributes, value)))\n",
    "l       "
   ]
  },
  {
   "cell_type": "code",
   "execution_count": 50,
   "metadata": {},
   "outputs": [
    {
     "data": {
      "text/plain": [
       "[{'name': 'jason', 'dob': '2000-01-01', 'gender': 'male'},\n",
       " {'name': 'mike', 'dob': '1999-01-01', 'gender': 'male'},\n",
       " {'name': 'nancy', 'dob': '2001-02-01', 'gender': 'female'}]"
      ]
     },
     "execution_count": 50,
     "metadata": {},
     "output_type": "execute_result"
    }
   ],
   "source": [
    "[dict(zip(attributes, value)) for value in values]"
   ]
  },
  {
   "cell_type": "code",
   "execution_count": null,
   "metadata": {},
   "outputs": [],
   "source": []
  }
 ],
 "metadata": {
  "kernelspec": {
   "display_name": "Python 3",
   "language": "python",
   "name": "python3"
  },
  "language_info": {
   "codemirror_mode": {
    "name": "ipython",
    "version": 3
   },
   "file_extension": ".py",
   "mimetype": "text/x-python",
   "name": "python",
   "nbconvert_exporter": "python",
   "pygments_lexer": "ipython3",
   "version": "3.8.5"
  }
 },
 "nbformat": 4,
 "nbformat_minor": 4
}
