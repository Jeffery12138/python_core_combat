{
 "cells": [
  {
   "cell_type": "code",
   "execution_count": null,
   "metadata": {},
   "outputs": [],
   "source": [
    "for x in range(10000):\n",
    "    f = open('test.txt', 'w')\n",
    "    f.write('hello world')"
   ]
  },
  {
   "cell_type": "code",
   "execution_count": 3,
   "metadata": {},
   "outputs": [],
   "source": [
    "for x in range(10000):\n",
    "    with open('test.txt', 'w') as f:\n",
    "        f.write('hello world')"
   ]
  },
  {
   "cell_type": "code",
   "execution_count": 4,
   "metadata": {},
   "outputs": [],
   "source": [
    "f = open('test.txt', 'w')\n",
    "try:\n",
    "    f.write('hello')\n",
    "finally:\n",
    "    f.close()"
   ]
  },
  {
   "cell_type": "code",
   "execution_count": 6,
   "metadata": {},
   "outputs": [],
   "source": [
    "import threading"
   ]
  },
  {
   "cell_type": "code",
   "execution_count": 7,
   "metadata": {
    "scrolled": true
   },
   "outputs": [],
   "source": [
    "some_lock = threading.Lock()"
   ]
  },
  {
   "cell_type": "code",
   "execution_count": 8,
   "metadata": {},
   "outputs": [
    {
     "data": {
      "text/plain": [
       "True"
      ]
     },
     "execution_count": 8,
     "metadata": {},
     "output_type": "execute_result"
    }
   ],
   "source": [
    "some_lock.acquire()"
   ]
  },
  {
   "cell_type": "code",
   "execution_count": 9,
   "metadata": {},
   "outputs": [],
   "source": [
    "try:\n",
    "    ...\n",
    "finally:\n",
    "    some_lock.release()"
   ]
  },
  {
   "cell_type": "code",
   "execution_count": 10,
   "metadata": {},
   "outputs": [],
   "source": [
    "some_lock = threading.Lock()"
   ]
  },
  {
   "cell_type": "code",
   "execution_count": 11,
   "metadata": {},
   "outputs": [],
   "source": [
    "with some_lock:\n",
    "    ..."
   ]
  },
  {
   "cell_type": "markdown",
   "metadata": {},
   "source": [
    "# 基于类的上下文管理器"
   ]
  },
  {
   "cell_type": "code",
   "execution_count": 12,
   "metadata": {},
   "outputs": [
    {
     "name": "stdout",
     "output_type": "stream",
     "text": [
      "calling __init__ method\n",
      "calling __enter__ method\n",
      "ready to write to file\n",
      "calling __exit__ method\n"
     ]
    }
   ],
   "source": [
    "class FileManager:\n",
    "    def __init__(self, name, mode):\n",
    "        print('calling __init__ method')\n",
    "        self.name = name\n",
    "        self.mode = mode\n",
    "        self.file = None\n",
    "        \n",
    "    def __enter__(self):\n",
    "        print('calling __enter__ method')\n",
    "        self.file = open(self.name, self.mode)\n",
    "        return self.file\n",
    "    \n",
    "    def __exit__(self, exc_type, exc_val, exc_tb):\n",
    "        print('calling __exit__ method')\n",
    "        if self.file:\n",
    "            self.file.close()\n",
    "            \n",
    "\n",
    "with FileManager('test.txt', 'w') as f:\n",
    "    print('ready to write to file')\n",
    "    f.write('hello world')"
   ]
  },
  {
   "cell_type": "code",
   "execution_count": 13,
   "metadata": {},
   "outputs": [
    {
     "name": "stdout",
     "output_type": "stream",
     "text": [
      "__init__ called\n",
      "__enter__ called\n",
      "__exit__ called\n",
      "exc_type: <class 'Exception'>\n",
      "exc_value: exception raised\n",
      "exc_traceback: <traceback object at 0x7f09bca88700>\n",
      "exception handled\n"
     ]
    }
   ],
   "source": [
    "class Foo:\n",
    "    def __init__(self):\n",
    "        print('__init__ called')\n",
    "        \n",
    "    def __enter__(self):\n",
    "        print('__enter__ called')\n",
    "        return self\n",
    "    \n",
    "    def __exit__(self, exc_type, exc_value, exc_tb):\n",
    "        print('__exit__ called')\n",
    "        if exc_type:\n",
    "            print(f'exc_type: {exc_type}')\n",
    "            print(f'exc_value: {exc_value}')\n",
    "            print(f'exc_traceback: {exc_tb}')\n",
    "            print('exception handled')\n",
    "        return True\n",
    "    \n",
    "    \n",
    "with Foo() as obj:\n",
    "    raise Exception('exception raised').with_traceback(None)"
   ]
  },
  {
   "cell_type": "code",
   "execution_count": 14,
   "metadata": {},
   "outputs": [
    {
     "name": "stdout",
     "output_type": "stream",
     "text": [
      "__init__ called\n",
      "__enter__ called\n",
      "__exit__ called\n",
      "exc_type: <class 'Exception'>\n",
      "exc_value: exception raised\n",
      "exc_traceback: <traceback object at 0x7f09bca883c0>\n",
      "exception handled\n"
     ]
    },
    {
     "ename": "Exception",
     "evalue": "exception raised",
     "output_type": "error",
     "traceback": [
      "\u001b[0;31m---------------------------------------------------------------------------\u001b[0m",
      "\u001b[0;31mException\u001b[0m                                 Traceback (most recent call last)",
      "\u001b[0;32m<ipython-input-14-3754d79875d5>\u001b[0m in \u001b[0;36m<module>\u001b[0;34m\u001b[0m\n\u001b[1;32m     17\u001b[0m \u001b[0;34m\u001b[0m\u001b[0m\n\u001b[1;32m     18\u001b[0m \u001b[0;32mwith\u001b[0m \u001b[0mFoo\u001b[0m\u001b[0;34m(\u001b[0m\u001b[0;34m)\u001b[0m \u001b[0;32mas\u001b[0m \u001b[0mobj\u001b[0m\u001b[0;34m:\u001b[0m\u001b[0;34m\u001b[0m\u001b[0;34m\u001b[0m\u001b[0m\n\u001b[0;32m---> 19\u001b[0;31m     \u001b[0;32mraise\u001b[0m \u001b[0mException\u001b[0m\u001b[0;34m(\u001b[0m\u001b[0;34m'exception raised'\u001b[0m\u001b[0;34m)\u001b[0m\u001b[0;34m.\u001b[0m\u001b[0mwith_traceback\u001b[0m\u001b[0;34m(\u001b[0m\u001b[0;32mNone\u001b[0m\u001b[0;34m)\u001b[0m\u001b[0;34m\u001b[0m\u001b[0;34m\u001b[0m\u001b[0m\n\u001b[0m",
      "\u001b[0;31mException\u001b[0m: exception raised"
     ]
    }
   ],
   "source": [
    "class Foo:\n",
    "    def __init__(self):\n",
    "        print('__init__ called')\n",
    "        \n",
    "    def __enter__(self):\n",
    "        print('__enter__ called')\n",
    "        return self\n",
    "    \n",
    "    def __exit__(self, exc_type, exc_value, exc_tb):\n",
    "        print('__exit__ called')\n",
    "        if exc_type:\n",
    "            print(f'exc_type: {exc_type}')\n",
    "            print(f'exc_value: {exc_value}')\n",
    "            print(f'exc_traceback: {exc_tb}')\n",
    "            print('exception handled')\n",
    "    \n",
    "    \n",
    "with Foo() as obj:\n",
    "    raise Exception('exception raised').with_traceback(None)"
   ]
  },
  {
   "cell_type": "code",
   "execution_count": 17,
   "metadata": {},
   "outputs": [],
   "source": [
    "import pymongo"
   ]
  },
  {
   "cell_type": "code",
   "execution_count": 22,
   "metadata": {},
   "outputs": [],
   "source": [
    "class DBConnectionManager:\n",
    "    def __init__(self, hostname, port):\n",
    "        self.hostname = hostname\n",
    "        self.port = port\n",
    "        self.connection = None\n",
    "        \n",
    "    def __enter__(self):\n",
    "        self.connection = pymongo.MongoClient(self.hostname, self.port)\n",
    "        return self\n",
    "    \n",
    "    def __exit__(self, exc_type, exc_val, exc_tb):\n",
    "        self.connection.close()\n",
    "        \n",
    "        \n",
    "with DBConnectionManager('localhost', 27017) as db_client:\n",
    "    ..."
   ]
  },
  {
   "cell_type": "markdown",
   "metadata": {},
   "source": [
    "# 基于生成器的上下文管理器"
   ]
  },
  {
   "cell_type": "code",
   "execution_count": 24,
   "metadata": {},
   "outputs": [],
   "source": [
    "from contextlib import contextmanager\n",
    "\n",
    "@contextmanager\n",
    "def file_manager(name, mode):\n",
    "    try:\n",
    "        f = open(name, mode)\n",
    "        yield f\n",
    "    finally:\n",
    "        f.close()\n",
    "        \n",
    "with file_manager('test.txt', 'a') as f:\n",
    "    f.write('基于生成器的上下文管理器')"
   ]
  },
  {
   "cell_type": "code",
   "execution_count": null,
   "metadata": {},
   "outputs": [],
   "source": []
  }
 ],
 "metadata": {
  "kernelspec": {
   "display_name": "Python 3",
   "language": "python",
   "name": "python3"
  },
  "language_info": {
   "codemirror_mode": {
    "name": "ipython",
    "version": 3
   },
   "file_extension": ".py",
   "mimetype": "text/x-python",
   "name": "python",
   "nbconvert_exporter": "python",
   "pygments_lexer": "ipython3",
   "version": "3.8.5"
  }
 },
 "nbformat": 4,
 "nbformat_minor": 4
}
