{
 "cells": [
  {
   "cell_type": "markdown",
   "metadata": {},
   "source": [
    "# 什么是单元测试"
   ]
  },
  {
   "cell_type": "code",
   "execution_count": 1,
   "metadata": {},
   "outputs": [],
   "source": [
    "import unittest"
   ]
  },
  {
   "cell_type": "code",
   "execution_count": 4,
   "metadata": {},
   "outputs": [],
   "source": [
    "# 将要被测试的排序函数\n",
    "def sort(arr):\n",
    "    l = len(arr)\n",
    "    for i in range(0, l):\n",
    "        for j in range(i + 1, l):\n",
    "            if arr[i] >= arr[j]:\n",
    "                tmp = arr[i]\n",
    "                arr[i] = arr[j]\n",
    "                arr[j] = tmp"
   ]
  },
  {
   "cell_type": "code",
   "execution_count": 5,
   "metadata": {},
   "outputs": [],
   "source": [
    "# 编写子类继承unittest.TestCase\n",
    "class TestSort(unittest.TestCase):\n",
    "    \n",
    "    # 以test开头的函数会被测试\n",
    "    def test_sort(self):\n",
    "        arr = [3, 4, 1, 5, 6]\n",
    "        sort(arr)\n",
    "        # assert 结果根我们期待的一样\n",
    "        self.assertEqual(arr, [1, 3, 4, 5, 6])"
   ]
  },
  {
   "cell_type": "code",
   "execution_count": 6,
   "metadata": {},
   "outputs": [
    {
     "name": "stderr",
     "output_type": "stream",
     "text": [
      ".\n",
      "----------------------------------------------------------------------\n",
      "Ran 1 test in 0.012s\n",
      "\n",
      "OK\n"
     ]
    }
   ],
   "source": [
    "if __name__ == '__main__':\n",
    "    ## 如果在Jupyter下，请用如下方式运行单元测试\n",
    "    unittest.main(argv=['first-arg-is-ignored'], exit=False)\n",
    "    ## 如果是命令行下运行，则：\n",
    "    ## unittest.main()"
   ]
  },
  {
   "cell_type": "markdown",
   "metadata": {},
   "source": [
    "# 单元测试的几个技巧"
   ]
  },
  {
   "cell_type": "markdown",
   "metadata": {},
   "source": [
    "## mock"
   ]
  },
  {
   "cell_type": "code",
   "execution_count": 7,
   "metadata": {},
   "outputs": [
    {
     "name": "stderr",
     "output_type": "stream",
     "text": [
      "..\n",
      "----------------------------------------------------------------------\n",
      "Ran 2 tests in 0.004s\n",
      "\n",
      "OK\n"
     ]
    }
   ],
   "source": [
    "import unittest\n",
    "from unittest.mock import MagicMock\n",
    "\n",
    "class A(unittest.TestCase):\n",
    "    def m1(self):\n",
    "        val = self.m2()\n",
    "        self.m3(val)\n",
    "        \n",
    "    def m2(self):\n",
    "        pass\n",
    "    \n",
    "    def m3(self, val):\n",
    "        pass\n",
    "    \n",
    "    def test_m1(self):\n",
    "        a = A()\n",
    "        a.m2 = MagicMock(return_value='custom_val')\n",
    "        a.m3 = MagicMock()\n",
    "        a.m1()\n",
    "        self.assertTrue(a.m2.called) # 验证m2被call过\n",
    "        a.m3.assert_called_with(\"custom_val\") # 验证m3被指定参数call过\n",
    "        \n",
    "        \n",
    "if __name__ == '__main__':\n",
    "    unittest.main(argv=['first-arg-is-ignored'], exit=False)"
   ]
  },
  {
   "cell_type": "markdown",
   "metadata": {},
   "source": [
    "## Mock Side Effect"
   ]
  },
  {
   "cell_type": "code",
   "execution_count": 8,
   "metadata": {},
   "outputs": [],
   "source": [
    "from unittest.mock import MagicMock\n",
    "\n",
    "def side_effect(arg):\n",
    "    if arg < 0:\n",
    "        return 1\n",
    "    else:\n",
    "        return 2\n",
    "    \n",
    "\n",
    "mock = MagicMock()\n",
    "mock.side_effect = side_effect"
   ]
  },
  {
   "cell_type": "code",
   "execution_count": 9,
   "metadata": {},
   "outputs": [
    {
     "data": {
      "text/plain": [
       "1"
      ]
     },
     "execution_count": 9,
     "metadata": {},
     "output_type": "execute_result"
    }
   ],
   "source": [
    "mock(-1)"
   ]
  },
  {
   "cell_type": "code",
   "execution_count": 10,
   "metadata": {},
   "outputs": [
    {
     "data": {
      "text/plain": [
       "2"
      ]
     },
     "execution_count": 10,
     "metadata": {},
     "output_type": "execute_result"
    }
   ],
   "source": [
    "mock(1)"
   ]
  },
  {
   "cell_type": "markdown",
   "metadata": {},
   "source": [
    "## patch"
   ]
  },
  {
   "cell_type": "code",
   "execution_count": 12,
   "metadata": {},
   "outputs": [],
   "source": [
    "from unittest.mock import patch\n",
    "\n",
    "@patch('%s.sort')\n",
    "def test_sort(self, mock_sort):\n",
    "    ...\n",
    "    ..."
   ]
  },
  {
   "cell_type": "markdown",
   "metadata": {},
   "source": [
    "# 高质量单元测试的关键"
   ]
  },
  {
   "cell_type": "markdown",
   "metadata": {},
   "source": [
    "## Test Coverage"
   ]
  },
  {
   "cell_type": "markdown",
   "metadata": {},
   "source": [
    "## 模块化"
   ]
  },
  {
   "cell_type": "code",
   "execution_count": 13,
   "metadata": {},
   "outputs": [],
   "source": [
    "def work(arr):\n",
    "    # pre process\n",
    "    ...\n",
    "    ...\n",
    "    # sort\n",
    "    l = len(arr)\n",
    "    for i in range(0, l):\n",
    "        for j in range(i+1, l):\n",
    "            if arr[i] >= arr[j]:\n",
    "                tmp = arr[i]\n",
    "                arr[i] = arr[j]\n",
    "                arr[j] = tmp\n",
    "                \n",
    "    # post process\n",
    "    ...\n",
    "    ...\n",
    "    return arr"
   ]
  },
  {
   "cell_type": "code",
   "execution_count": 14,
   "metadata": {},
   "outputs": [],
   "source": [
    "def preprocess(arr):\n",
    "    ...\n",
    "    ...\n",
    "    return arr\n",
    "\n",
    "def sort(arr):\n",
    "    ...\n",
    "    ...\n",
    "    return arr\n",
    "\n",
    "def postprocess(arr):\n",
    "    ...\n",
    "    return arr\n",
    "\n",
    "def work(self):\n",
    "    arr = preprocess(arr)\n",
    "    arr = sort(arr)\n",
    "    arr = postprocess(arr)\n",
    "    return arr"
   ]
  },
  {
   "cell_type": "code",
   "execution_count": 15,
   "metadata": {},
   "outputs": [
    {
     "name": "stderr",
     "output_type": "stream",
     "text": [
      ".F\n",
      "======================================================================\n",
      "FAIL: test_sort (__main__.TestSort)\n",
      "----------------------------------------------------------------------\n",
      "Traceback (most recent call last):\n",
      "  File \"<ipython-input-5-bf8afc76cdf1>\", line 9, in test_sort\n",
      "    self.assertEqual(arr, [1, 3, 4, 5, 6])\n",
      "AssertionError: Lists differ: [3, 4, 1, 5, 6] != [1, 3, 4, 5, 6]\n",
      "\n",
      "First differing element 0:\n",
      "3\n",
      "1\n",
      "\n",
      "- [3, 4, 1, 5, 6]\n",
      "?        ---\n",
      "\n",
      "+ [1, 3, 4, 5, 6]\n",
      "?  +++\n",
      "\n",
      "\n",
      "----------------------------------------------------------------------\n",
      "Ran 2 tests in 0.019s\n",
      "\n",
      "FAILED (failures=1)\n"
     ]
    }
   ],
   "source": [
    "from unittest.mock import patch\n",
    "\n",
    "def test_preprocess(self):\n",
    "    ...\n",
    "    \n",
    "def test_sort(self):\n",
    "    ...\n",
    "    \n",
    "def test_postprocess(self):\n",
    "    ...\n",
    "    \n",
    "@patch('%s.preprocess')\n",
    "@patch('%s.sort')\n",
    "@patch('%s.postprocess')\n",
    "def test_work(self, mock_post_process, mock_sort, mock_preprocess):\n",
    "    work()\n",
    "    self.assertTrue(mock_post_process.called)\n",
    "    self.assertTrue(mock_sort.called)\n",
    "    self.assertTrue(mock_preprocess.called)\n",
    "    \n",
    "    \n",
    "if __name__ == '__main__':\n",
    "    unittest.main(argv=['fisrt-arg-is-ignored'], exit=False)"
   ]
  },
  {
   "cell_type": "code",
   "execution_count": null,
   "metadata": {},
   "outputs": [],
   "source": []
  }
 ],
 "metadata": {
  "kernelspec": {
   "display_name": "Python 3",
   "language": "python",
   "name": "python3"
  },
  "language_info": {
   "codemirror_mode": {
    "name": "ipython",
    "version": 3
   },
   "file_extension": ".py",
   "mimetype": "text/x-python",
   "name": "python",
   "nbconvert_exporter": "python",
   "pygments_lexer": "ipython3",
   "version": "3.8.5"
  }
 },
 "nbformat": 4,
 "nbformat_minor": 4
}
